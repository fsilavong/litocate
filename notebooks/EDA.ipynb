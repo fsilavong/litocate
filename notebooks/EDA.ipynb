{
 "cells": [
  {
   "cell_type": "code",
   "execution_count": 17,
   "id": "38a82b24-f41b-4719-aedb-298757a046a6",
   "metadata": {},
   "outputs": [],
   "source": [
    "# !pip install acl-anthology-py matplotlib keybert"
   ]
  },
  {
   "cell_type": "code",
   "execution_count": 16,
   "id": "06efe235-23d4-4622-97e0-47ed1cafae8b",
   "metadata": {},
   "outputs": [
    {
     "name": "stderr",
     "output_type": "stream",
     "text": [
      "/Users/fran/miniconda3/lib/python3.11/site-packages/tqdm/auto.py:21: TqdmWarning: IProgress not found. Please update jupyter and ipywidgets. See https://ipywidgets.readthedocs.io/en/stable/user_install.html\n",
      "  from .autonotebook import tqdm as notebook_tqdm\n"
     ]
    }
   ],
   "source": [
    "from collections import Counter\n",
    "\n",
    "import matplotlib.pyplot as plt\n",
    "from acl_anthology import Anthology\n",
    "from keybert import KeyBERT"
   ]
  },
  {
   "cell_type": "code",
   "execution_count": 26,
   "id": "4f2e22fa-16f2-4704-a066-84f18bb69c60",
   "metadata": {},
   "outputs": [
    {
     "data": {
      "text/html": [
       "<pre style=\"white-space:pre;overflow-x:auto;line-height:normal;font-family:Menlo,'DejaVu Sans Mono',consolas,'Courier New',monospace\">/Users/fran/miniconda3/lib/python3.11/site-packages/rich/live.py:231: UserWarning: install \"ipywidgets\" for Jupyter\n",
       "support\n",
       "  warnings.warn('install \"ipywidgets\" for Jupyter support')\n",
       "</pre>\n"
      ],
      "text/plain": [
       "/Users/fran/miniconda3/lib/python3.11/site-packages/rich/live.py:231: UserWarning: install \"ipywidgets\" for Jupyter\n",
       "support\n",
       "  warnings.warn('install \"ipywidgets\" for Jupyter support')\n"
      ]
     },
     "metadata": {},
     "output_type": "display_data"
    },
    {
     "data": {
      "text/html": [
       "<pre style=\"white-space:pre;overflow-x:auto;line-height:normal;font-family:Menlo,'DejaVu Sans Mono',consolas,'Courier New',monospace\"></pre>\n"
      ],
      "text/plain": []
     },
     "metadata": {},
     "output_type": "display_data"
    }
   ],
   "source": [
    "anthology = Anthology.from_repo()\n",
    "\n",
    "event_ids     = ['tsar-2024', 'tsar-2023', 'tsar-2022']\n",
    "all_titles    = []\n",
    "all_abstracts = []\n",
    "\n",
    "for event_id in event_ids:\n",
    "    event = anthology.get_event(event_id)\n",
    "\n",
    "    if event:\n",
    "        for volume in event.volumes():\n",
    "            for paper_id, paper in volume.items():\n",
    "                title = paper.title\n",
    "                if title:\n",
    "                    all_titles.append(title.as_text())\n",
    "                abstract = paper.abstract\n",
    "                if abstract:\n",
    "                    all_abstracts.append(abstract.as_text())\n",
    "    else:\n",
    "        print(f\"Event {event_id} not found\")"
   ]
  },
  {
   "cell_type": "code",
   "execution_count": 32,
   "id": "e11fbbca-33fc-4c99-9ebc-90ae55953ee1",
   "metadata": {},
   "outputs": [],
   "source": [
    "kw_model = KeyBERT()"
   ]
  },
  {
   "cell_type": "code",
   "execution_count": 39,
   "id": "8134ed81-a49d-4cd0-be66-91de7a145e83",
   "metadata": {},
   "outputs": [],
   "source": [
    "title_keywords = []\n",
    "for title in all_titles:\n",
    "    keywords = kw_model.extract_keywords(\n",
    "        title, keyphrase_ngram_range=(1, 2), \n",
    "        stop_words=None)\n",
    "    title_keywords.extend([k for (k, _) in keywords])"
   ]
  },
  {
   "cell_type": "code",
   "execution_count": 48,
   "id": "979a651e-367a-4b0c-afb4-f894b5355338",
   "metadata": {},
   "outputs": [
    {
     "data": {
      "text/plain": [
       "60"
      ]
     },
     "execution_count": 48,
     "metadata": {},
     "output_type": "execute_result"
    }
   ],
   "source": [
    "len(all_titles)"
   ]
  },
  {
   "cell_type": "code",
   "execution_count": 41,
   "id": "710ebeff-31e1-41ae-a274-2b5f05eea6f5",
   "metadata": {},
   "outputs": [
    {
     "data": {
      "text/plain": [
       "[('simplification', 27),\n",
       " ('text simplification', 19),\n",
       " ('lexical simplification', 15),\n",
       " ('lexical', 14),\n",
       " ('readability', 10),\n",
       " ('simplification accessibility', 3),\n",
       " ('lexical complexity', 3),\n",
       " ('automatic text', 3),\n",
       " ('text', 3),\n",
       " ('complexity', 3)]"
      ]
     },
     "execution_count": 41,
     "metadata": {},
     "output_type": "execute_result"
    }
   ],
   "source": [
    "Counter(title_keywords).most_common(10)"
   ]
  },
  {
   "cell_type": "code",
   "execution_count": 42,
   "id": "6bd24b91-6536-489a-84c9-1453d55a1d00",
   "metadata": {},
   "outputs": [],
   "source": [
    "abstract_keywords = []\n",
    "for abstract in all_abstracts:\n",
    "    keywords = kw_model.extract_keywords(\n",
    "        abstract, keyphrase_ngram_range=(1, 2), \n",
    "        stop_words=None)\n",
    "    abstract_keywords.extend([k for (k, _) in keywords])"
   ]
  },
  {
   "cell_type": "code",
   "execution_count": 43,
   "id": "df1984b5-4bfa-4786-8245-3b86eedf8f79",
   "metadata": {},
   "outputs": [
    {
     "data": {
      "text/plain": [
       "[('text simplification', 20),\n",
       " ('lexical simplification', 14),\n",
       " ('language models', 8),\n",
       " ('lexical', 7),\n",
       " ('lexical complexity', 4),\n",
       " ('readability', 4),\n",
       " ('readability assessment', 3),\n",
       " ('automatic text', 2),\n",
       " ('multiple languages', 2),\n",
       " ('word complexity', 2)]"
      ]
     },
     "execution_count": 43,
     "metadata": {},
     "output_type": "execute_result"
    }
   ],
   "source": [
    "Counter(abstract_keywords).most_common(10)"
   ]
  },
  {
   "cell_type": "code",
   "execution_count": 47,
   "id": "cfeb17c4-a07f-4e26-b878-ecfc6a65d04c",
   "metadata": {},
   "outputs": [
    {
     "data": {
      "text/plain": [
       "57"
      ]
     },
     "execution_count": 47,
     "metadata": {},
     "output_type": "execute_result"
    }
   ],
   "source": [
    "len(all_abstracts)"
   ]
  }
 ],
 "metadata": {
  "kernelspec": {
   "display_name": "Python 3 (ipykernel)",
   "language": "python",
   "name": "python3"
  },
  "language_info": {
   "codemirror_mode": {
    "name": "ipython",
    "version": 3
   },
   "file_extension": ".py",
   "mimetype": "text/x-python",
   "name": "python",
   "nbconvert_exporter": "python",
   "pygments_lexer": "ipython3",
   "version": "3.11.5"
  }
 },
 "nbformat": 4,
 "nbformat_minor": 5
}
